{
 "cells": [
  {
   "cell_type": "code",
   "execution_count": 1,
   "id": "clinical-stomach",
   "metadata": {},
   "outputs": [],
   "source": [
    "from poker.parsers.pokernow.parser import *"
   ]
  },
  {
   "cell_type": "code",
   "execution_count": 2,
   "id": "minor-greece",
   "metadata": {},
   "outputs": [
    {
     "name": "stderr",
     "output_type": "stream",
     "text": [
      "INFO:root:file of length:3008 was converted to 118\n"
     ]
    }
   ],
   "source": [
    "from os import listdir\n",
    "from os.path import isfile, join\n",
    "\n",
    "import logging\n",
    "\n",
    "logging.basicConfig(level=logging.INFO)\n",
    "\n",
    "\n",
    "game_logs_dir ='/mnt/c/Users/Owen Mitchell/Desktop/Files/Poker/Game Logs'\n",
    "game_log_paths = [join(game_logs_dir, f) for f in listdir(game_logs_dir) if isfile(join(game_logs_dir, f))]\n",
    "game_lines = [open(log).read() for  log in game_log_paths]\n",
    "obj = parse_game(game_lines[0])\n",
    "\n"
   ]
  },
  {
   "cell_type": "code",
   "execution_count": 3,
   "id": "according-recipient",
   "metadata": {},
   "outputs": [],
   "source": [
    "hand = obj.hands[111]"
   ]
  },
  {
   "cell_type": "code",
   "execution_count": 4,
   "id": "permanent-poison",
   "metadata": {},
   "outputs": [
    {
     "data": {
      "text/plain": [
       "(Card(suit=<Suits.DIAMONDS: 4>, value=<Values.ACE: 13>),\n",
       " Card(suit=<Suits.CLUBS: 3>, value=<Values.JACK: 10>))"
      ]
     },
     "execution_count": 4,
     "metadata": {},
     "output_type": "execute_result"
    }
   ],
   "source": [
    "hand.our_cards"
   ]
  },
  {
   "cell_type": "code",
   "execution_count": 5,
   "id": "finished-batman",
   "metadata": {},
   "outputs": [
    {
     "data": {
      "text/plain": [
       "112"
      ]
     },
     "execution_count": 5,
     "metadata": {},
     "output_type": "execute_result"
    }
   ],
   "source": [
    "hand.id"
   ]
  },
  {
   "cell_type": "code",
   "execution_count": 6,
   "id": "rough-moderator",
   "metadata": {},
   "outputs": [
    {
     "name": "stdout",
     "output_type": "stream",
     "text": [
      "Action Goes:\n",
      "\tOven posts 5\n",
      "\tRuss posts 10\n",
      "\tMikey posts 20\n",
      "\tGargs folds\n",
      "\tBenny folds\n",
      "\tOven raises 45\n",
      "\tRuss calls 45\n",
      "\tMikey folds\n",
      "\n"
     ]
    }
   ],
   "source": [
    "print(hand.preflop)"
   ]
  },
  {
   "cell_type": "code",
   "execution_count": 7,
   "id": "eligible-modeling",
   "metadata": {},
   "outputs": [
    {
     "data": {
      "text/plain": [
       "[Card(suit=<Suits.CLUBS: 3>, value=<Values.EIGHT: 7>),\n",
       " Card(suit=<Suits.HEARTS: 2>, value=<Values.KING: 12>),\n",
       " Card(suit=<Suits.HEARTS: 2>, value=<Values.QUEEN: 11>)]"
      ]
     },
     "execution_count": 7,
     "metadata": {},
     "output_type": "execute_result"
    }
   ],
   "source": [
    "hand.flop"
   ]
  },
  {
   "cell_type": "code",
   "execution_count": 8,
   "id": "upper-canadian",
   "metadata": {},
   "outputs": [
    {
     "name": "stdout",
     "output_type": "stream",
     "text": [
      "Action Goes:\n",
      "\tOven bets 65\n",
      "\tRuss raises 1059\n",
      "\tOven calls 1059\n",
      "\n"
     ]
    }
   ],
   "source": [
    "print(hand.first)"
   ]
  },
  {
   "cell_type": "code",
   "execution_count": 9,
   "id": "experienced-miller",
   "metadata": {},
   "outputs": [
    {
     "name": "stdout",
     "output_type": "stream",
     "text": [
      "[Card(suit=<Suits.HEARTS: 2>, value=<Values.JACK: 10>)]\n"
     ]
    }
   ],
   "source": [
    "print(hand.turn)"
   ]
  },
  {
   "cell_type": "code",
   "execution_count": 10,
   "id": "competitive-bullet",
   "metadata": {},
   "outputs": [
    {
     "name": "stdout",
     "output_type": "stream",
     "text": [
      "Action Goes:\n",
      "\tOven bets 1369\n",
      "\tRuss calls 984\n",
      "\tOven shows (A♦,J♣)\n",
      "\tRuss shows (8♦,Q♦)\n",
      "\n"
     ]
    }
   ],
   "source": [
    "print(hand.second)"
   ]
  },
  {
   "cell_type": "code",
   "execution_count": 11,
   "id": "empirical-mayor",
   "metadata": {},
   "outputs": [
    {
     "name": "stdout",
     "output_type": "stream",
     "text": [
      "[Card(suit=<Suits.DIAMONDS: 4>, value=<Values.JACK: 10>)]\n"
     ]
    }
   ],
   "source": [
    "print(hand.river)\n"
   ]
  },
  {
   "cell_type": "code",
   "execution_count": 12,
   "id": "super-pleasure",
   "metadata": {},
   "outputs": [
    {
     "name": "stdout",
     "output_type": "stream",
     "text": [
      "Action Goes:\n",
      "\tOven collects 4196\n",
      "\n"
     ]
    }
   ],
   "source": [
    "print(hand.third)"
   ]
  },
  {
   "cell_type": "code",
   "execution_count": null,
   "id": "civic-award",
   "metadata": {},
   "outputs": [],
   "source": []
  }
 ],
 "metadata": {
  "kernelspec": {
   "display_name": "Python 3",
   "language": "python",
   "name": "python3"
  },
  "language_info": {
   "codemirror_mode": {
    "name": "ipython",
    "version": 3
   },
   "file_extension": ".py",
   "mimetype": "text/x-python",
   "name": "python",
   "nbconvert_exporter": "python",
   "pygments_lexer": "ipython3",
   "version": "3.7.0"
  }
 },
 "nbformat": 4,
 "nbformat_minor": 5
}
